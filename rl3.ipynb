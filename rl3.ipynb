{
 "cells": [
  {
   "cell_type": "code",
   "execution_count": 6,
   "metadata": {},
   "outputs": [],
   "source": [
    "import numpy as np\n",
    "import cv2 as cv\n",
    "from PIL import Image\n",
    "import time\n",
    "import pickle\n",
    "import matplotlib.pyplot as plt\n",
    "from matplotlib import style\n",
    "style.use('ggplot')"
   ]
  },
  {
   "cell_type": "code",
   "execution_count": 7,
   "metadata": {},
   "outputs": [],
   "source": [
    "EPISODES = 30000\n",
    "SHOW_EVERY = 3000\n",
    "\n",
    "epsilon = 0.6\n",
    "EPS_DECAY = 0.9998\n",
    "DISCOUNT = 0.95\n",
    "LEARNING_RATE = 0.1"
   ]
  },
  {
   "cell_type": "code",
   "execution_count": 8,
   "metadata": {},
   "outputs": [],
   "source": [
    "class Cube:\n",
    "    def __init__(self, size):\n",
    "        self.size = size\n",
    "        self.x = np.random.randint(0, self.size)\n",
    "        self.y = np.random.randint(0, self.size)\n",
    "\n",
    "    def __str__(self) -> str:\n",
    "        return f\"{self.x},{self.y}\"\n",
    "\n",
    "    def __sub__(self, other: \"Cube\"):\n",
    "        return (self.x - other.x, self.y - other.y)\n",
    "\n",
    "    def __eq__(self, other: object) -> bool:\n",
    "        return self.x == other.x and self.y == other.y\n",
    "\n",
    "    def action(self, choice):\n",
    "        if choice == 0:\n",
    "            self.move(x=1, y=1)\n",
    "        elif choice == 1:\n",
    "            self.move(x=-1, y=1)\n",
    "        elif choice == 2:\n",
    "            self.move(x=1, y=-1)\n",
    "        elif choice == 3:\n",
    "            self.move(x=-1, y=-1)\n",
    "        elif choice == 4:\n",
    "            self.move(x=0, y=1)\n",
    "        elif choice == 5:\n",
    "            self.move(x=0, y=-1)\n",
    "        elif choice == 6:\n",
    "            self.move(x=1, y=0)\n",
    "        elif choice == 7:\n",
    "            self.move(x=-1, y=0)\n",
    "        elif choice == 8:\n",
    "            self.move(x=0, y=0)\n",
    "\n",
    "    def move(self, x=False, y=False):\n",
    "        if not x:\n",
    "            self.x += np.random.randint(-1, 2)\n",
    "        else:\n",
    "            self.x += x\n",
    "\n",
    "        if not y:\n",
    "            self.y += np.random.randint(-1, 2)\n",
    "        else:\n",
    "            self.y += y\n",
    "\n",
    "        if self.x <= 0:\n",
    "            self.x = 0\n",
    "        elif self.x >= self.size:\n",
    "            self.x = self.size - 1\n",
    "\n",
    "        if self.y <= 0:\n",
    "            self.y = 0\n",
    "        elif self.y >= self.size:\n",
    "            self.y = self.size - 1"
   ]
  },
  {
   "cell_type": "code",
   "execution_count": 9,
   "metadata": {},
   "outputs": [
    {
     "name": "stdout",
     "output_type": "stream",
     "text": [
      "3,8\n",
      "4,4\n",
      "False\n"
     ]
    }
   ],
   "source": [
    "p1 = Cube(10)\n",
    "p2 = Cube(10)\n",
    "print(p1)\n",
    "print(p2)\n",
    "print(p1 == p2)"
   ]
  },
  {
   "cell_type": "code",
   "execution_count": 10,
   "metadata": {},
   "outputs": [],
   "source": [
    "class envCube:\n",
    "    SIZE = 10\n",
    "    OBSERVATION_SPACE_VALUES = (SIZE, SIZE, 3)\n",
    "    ACTION_SPACE_VALUES = 9\n",
    "    RETURN_IMAGE = False\n",
    "\n",
    "    FOOD_REWARD = 25\n",
    "    ENEMY_PENALTY = -300\n",
    "    MOVE_PENALTY = -1\n",
    "    d = {\n",
    "        1: (255, 0, 0),  # blue\n",
    "        2: (0, 255, 0),  # green\n",
    "        3: (0, 0, 255),  # red\n",
    "    }\n",
    "\n",
    "    PLAYER_N = 1\n",
    "    FOOD_N = 2\n",
    "    ENEMY_N = 3\n",
    "\n",
    "    def reset(self):\n",
    "        self.player = Cube(self.SIZE)\n",
    "        self.food = Cube(self.SIZE)\n",
    "        while self.food == self.player:\n",
    "            self.food = Cube(self.SIZE)\n",
    "\n",
    "        self.enemy = Cube(self.SIZE)\n",
    "        while self.enemy == self.player or self.enemy == self.food:\n",
    "            self.enemy = Cube(self.SIZE)\n",
    "\n",
    "        if self.RETURN_IMAGE:\n",
    "            observation = np.array(self.get_image())\n",
    "        else:\n",
    "            observation = (self.player - self.food) + (self.player - self.enemy)\n",
    "\n",
    "        self.episode_step = 0\n",
    "        return observation\n",
    "\n",
    "    def step(self, action):\n",
    "        self.episode_step += 1\n",
    "        self.player.action(action)\n",
    "        self.food.move()\n",
    "        self.enemy.move()\n",
    "\n",
    "        if self.RETURN_IMAGE:\n",
    "            new_observation = np.array(self.get_image())\n",
    "        else:\n",
    "            new_observation = (self.player - self.food) + (self.player - self.enemy)\n",
    "\n",
    "        if self.player == self.food:\n",
    "            reward = self.FOOD_REWARD\n",
    "        if self.player == self.enemy:\n",
    "            reward = self.ENEMY_PENALTY\n",
    "        else:\n",
    "            reward = self.MOVE_PENALTY\n",
    "\n",
    "        done = False\n",
    "        if self.player == self.food or self.player == self.enemy or self.episode_step >= 200:\n",
    "            done = True\n",
    "\n",
    "        return new_observation, reward, done\n",
    "\n",
    "    def render(self):\n",
    "        img = self.get_image()\n",
    "        img = img.resize((800, 800))\n",
    "        cv.imshow(\"img\", np.array(img))\n",
    "        cv.waitKey(1)\n",
    "\n",
    "    def get_image(self):\n",
    "        env = np.zeros((self.SIZE, self.SIZE, 3), dtype=np.uint8)\n",
    "        env[self.food.x][self.food.y] = self.d[self.FOOD_N]\n",
    "        env[self.player.x][self.player.y] = self.d[self.PLAYER_N]\n",
    "        env[self.enemy.x][self.enemy.y] = self.d[self.ENEMY_N]\n",
    "\n",
    "        img = Image.fromarray(env, \"RGB\")\n",
    "        return img\n",
    "\n",
    "    def get_qtable(self, qtable_name=None):\n",
    "        if qtable_name is None:\n",
    "            q_table = {}\n",
    "            for x1 in range(-self.SIZE + 1, self.SIZE):\n",
    "                for y1 in range(-self.SIZE + 1, self.SIZE):\n",
    "                    for x2 in range(-self.SIZE + 1, self.SIZE):\n",
    "                        for y2 in range(-self.SIZE + 1, self.SIZE):\n",
    "                            q_table[((x1, y1, x2, y2))] = [\n",
    "                                np.random.uniform(-5, 0) for i in range(self.ACTION_SPACE_VALUES)\n",
    "                            ]\n",
    "        else:\n",
    "            with open(qtable_name, \"rb\") as f:\n",
    "                q_table = pickle.load(f)\n",
    "        return q_table"
   ]
  },
  {
   "cell_type": "code",
   "execution_count": 11,
   "metadata": {},
   "outputs": [
    {
     "name": "stdout",
     "output_type": "stream",
     "text": [
      "(0, -4, 3, 4)\n",
      "(-1, -5, 2, 3) -1 False\n"
     ]
    },
    {
     "data": {
      "text/plain": [
       "[-3.163325873830061,\n",
       " -4.611274342089867,\n",
       " -0.5732203758412435,\n",
       " -2.7543659722794347,\n",
       " -4.946557562812518,\n",
       " -3.2122304343176826,\n",
       " -1.6593622713183946,\n",
       " -0.7783207592173298,\n",
       " -0.7848730543552849]"
      ]
     },
     "execution_count": 11,
     "metadata": {},
     "output_type": "execute_result"
    }
   ],
   "source": [
    "env = envCube()\n",
    "print(env.reset())\n",
    "new_observation, reward, done = env.step(3)\n",
    "print(new_observation, reward, done)\n",
    "env.render()\n",
    "q_table1 = env.get_qtable()\n",
    "q_table1[new_observation]"
   ]
  },
  {
   "cell_type": "code",
   "execution_count": 12,
   "metadata": {},
   "outputs": [
    {
     "name": "stdout",
     "output_type": "stream",
     "text": [
      "on #0, epsilon:0.6\n",
      "mean reward:nan\n"
     ]
    },
    {
     "name": "stderr",
     "output_type": "stream",
     "text": [
      "c:\\APP\\python3_11_9\\Lib\\site-packages\\numpy\\_core\\fromnumeric.py:3904: RuntimeWarning: Mean of empty slice.\n",
      "  return _methods._mean(a, axis=axis, dtype=dtype,\n",
      "c:\\APP\\python3_11_9\\Lib\\site-packages\\numpy\\_core\\_methods.py:147: RuntimeWarning: invalid value encountered in scalar divide\n",
      "  ret = ret.dtype.type(ret / rcount)\n"
     ]
    },
    {
     "name": "stdout",
     "output_type": "stream",
     "text": [
      "on #3000, epsilon:0.32926722239570905\n",
      "mean reward:-203.26033333333334\n",
      "on #6000, epsilon:0.18069483957364205\n",
      "mean reward:-197.67766666666665\n",
      "on #9000, epsilon:0.09916147987941909\n",
      "mean reward:-190.34766666666667\n",
      "on #12000, epsilon:0.054417708414240505\n",
      "mean reward:-179.77033333333333\n",
      "on #15000, epsilon:0.029863279497827713\n",
      "mean reward:-176.105\n",
      "on #18000, epsilon:0.016388331819794114\n",
      "mean reward:-169.56266666666667\n",
      "on #21000, epsilon:0.00899356749667138\n",
      "mean reward:-170.59933333333333\n",
      "on #24000, epsilon:0.00493547831509555\n",
      "mean reward:-164.612\n",
      "on #27000, epsilon:0.0027084853933429503\n",
      "mean reward:-167.84133333333332\n"
     ]
    }
   ],
   "source": [
    "env = envCube()\n",
    "q_table = env.get_qtable()\n",
    "\n",
    "episode_rewards = []\n",
    "for episode in range(EPISODES):\n",
    "    obs = env.reset()\n",
    "    done = False\n",
    "\n",
    "    if episode % SHOW_EVERY == 0:\n",
    "        print(f\"on #{episode}, epsilon:{epsilon}\")\n",
    "        print(f\"mean reward:{np.mean(episode_rewards[-SHOW_EVERY:])}\")\n",
    "        show = True\n",
    "    else:\n",
    "        show = False\n",
    "\n",
    "    episode_reward = 0\n",
    "    while not done:\n",
    "        if np.random.random() > epsilon:\n",
    "            action = np.argmax(q_table[obs])\n",
    "        else:\n",
    "            action = np.random.randint(0, env.ACTION_SPACE_VALUES)\n",
    "\n",
    "        new_obs, reward, done = env.step(action)\n",
    "\n",
    "        # 更新Q表\n",
    "        current_q = q_table[obs][action]\n",
    "        max_future_q = np.max(q_table[new_obs])\n",
    "\n",
    "        if reward == env.FOOD_REWARD:\n",
    "            new_q = env.FOOD_REWARD\n",
    "        else:\n",
    "            new_q = (1 - LEARNING_RATE) * current_q + LEARNING_RATE * (reward + DISCOUNT * max_future_q)\n",
    "\n",
    "        q_table[obs][action] = new_q\n",
    "        obs = new_obs\n",
    "\n",
    "        if show:\n",
    "            env.render()\n",
    "\n",
    "        # 累加奖励\n",
    "        episode_reward += reward\n",
    "\n",
    "    episode_rewards.append(episode_reward)\n",
    "    epsilon *= EPS_DECAY"
   ]
  },
  {
   "cell_type": "code",
   "execution_count": 13,
   "metadata": {},
   "outputs": [
    {
     "name": "stdout",
     "output_type": "stream",
     "text": [
      "27001\n"
     ]
    },
    {
     "data": {
      "image/png": "[encoded data removed]",
      "text/plain": [
       "<Figure size 640x480 with 1 Axes>"
      ]
     },
     "metadata": {},
     "output_type": "display_data"
    }
   ],
   "source": [
    "# conv = np.convolve([3, 8, 10, 9, 11, 23, 44, 55, 57, 48], np.ones((3,)) / 3, mode=\"valid\")\n",
    "# print(conv)\n",
    "# print(np.ones((3,)) / 3)\n",
    "moving_avg = np.convolve(episode_rewards, np.ones((SHOW_EVERY,)) / SHOW_EVERY, mode=\"valid\")\n",
    "print(len(moving_avg))\n",
    "plt.plot([i for i in range(len(moving_avg))], moving_avg)\n",
    "plt.xlabel(\"episode #\")\n",
    "plt.ylabel(\"mean 3000 reward\")\n",
    "plt.show()\n",
    "\n",
    "# 保存q table\n",
    "with open(f\"qtable_{int(time.time())}.pickle\", \"wb\") as f:\n",
    "    pickle.dump(q_table, f)"
   ]
  },
  {
   "cell_type": "code",
   "execution_count": 17,
   "metadata": {},
   "outputs": [],
   "source": [
    "with open('qtable_1726499931.pickle','rb') as f:\n",
    "    q_table_s = pickle.load(f)"
   ]
  },
  {
   "cell_type": "code",
   "execution_count": 20,
   "metadata": {},
   "outputs": [],
   "source": [
    "def test(q_table, episodes, show_enable=True):\n",
    "    env = envCube()\n",
    "    avg_reward = 0\n",
    "    for episode in range(episodes):\n",
    "        obs = env.reset()\n",
    "        done = False\n",
    "        episode_reward = 0\n",
    "        while not done:\n",
    "            action = np.argmax(q_table[obs])\n",
    "            obs, reward, done = env.step(action)\n",
    "            if show_enable == True:\n",
    "                env.render()\n",
    "\n",
    "            episode_reward += reward\n",
    "        print(f\"episode:{episode}, episode_reward:{episode_reward}\")\n",
    "        avg_reward += episode_reward\n",
    "    avg_reward /= episodes\n",
    "\n",
    "    print(f'avg_reward:{avg_reward}')\n",
    "    return avg_reward"
   ]
  },
  {
   "cell_type": "code",
   "execution_count": 21,
   "metadata": {},
   "outputs": [
    {
     "name": "stdout",
     "output_type": "stream",
     "text": [
      "episode:0, episode:-149\n",
      "episode:1, episode:-200\n",
      "episode:2, episode:-99\n",
      "episode:3, episode:-357\n",
      "episode:4, episode:-462\n",
      "episode:5, episode:-14\n",
      "episode:6, episode:-28\n",
      "episode:7, episode:-200\n",
      "episode:8, episode:-8\n",
      "episode:9, episode:-200\n",
      "avg_reward:-171.7\n"
     ]
    },
    {
     "data": {
      "text/plain": [
       "-171.7"
      ]
     },
     "execution_count": 21,
     "metadata": {},
     "output_type": "execute_result"
    }
   ],
   "source": [
    "test(q_table_s, 10)"
   ]
  }
 ],
 "metadata": {
  "kernelspec": {
   "display_name": "Python 3",
   "language": "python",
   "name": "python3"
  },
  "language_info": {
   "codemirror_mode": {
    "name": "ipython",
    "version": 3
   },
   "file_extension": ".py",
   "mimetype": "text/x-python",
   "name": "python",
   "nbconvert_exporter": "python",
   "pygments_lexer": "ipython3",
   "version": "3.11.9"
  }
 },
 "nbformat": 4,
 "nbformat_minor": 2
}
